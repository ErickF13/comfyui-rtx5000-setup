{
 "cells": [
  {
   "cell_type": "code",
   "execution_count": 1,
   "metadata": {},
   "outputs": [],
   "source": [
    "import torch\n",
    "\n",
    "# Clear the cache (for PyTorch)\n",
    "torch.cuda.empty_cache()\n",
    "\n",
    "# Also, collect unused memory\n",
    "torch.cuda.ipc_collect()\n"
   ]
  },
  {
   "cell_type": "code",
   "execution_count": 3,
   "metadata": {},
   "outputs": [
    {
     "name": "stdout",
     "output_type": "stream",
     "text": [
      "tensor([0., 0., 0.], device='cuda:0')\n",
      "If you see tensor([0., 0., 0.], device='cuda:0'), then it works\n"
     ]
    }
   ],
   "source": [
    "import torch\n",
    "import triton\n",
    "import triton.language as tl\n",
    "\n",
    "@triton.jit\n",
    "def add_kernel(x_ptr, y_ptr, output_ptr, n_elements, BLOCK_SIZE: tl.constexpr):\n",
    "    pid = tl.program_id(axis=0)\n",
    "    block_start = pid * BLOCK_SIZE\n",
    "    offsets = block_start + tl.arange(0, BLOCK_SIZE)\n",
    "    mask = offsets < n_elements\n",
    "    x = tl.load(x_ptr + offsets, mask=mask)\n",
    "    y = tl.load(y_ptr + offsets, mask=mask)\n",
    "    output = x + y\n",
    "    tl.store(output_ptr + offsets, output, mask=mask)\n",
    "\n",
    "def add(x: torch.Tensor, y: torch.Tensor):\n",
    "    output = torch.empty_like(x)\n",
    "    n_elements = output.numel()\n",
    "    grid = lambda meta: (triton.cdiv(n_elements, meta[\"BLOCK_SIZE\"]),)\n",
    "    add_kernel[grid](x, y, output, n_elements, BLOCK_SIZE=1024)\n",
    "    return output\n",
    "\n",
    "a = torch.rand(3, device=\"cuda\")\n",
    "b = a + a\n",
    "b_compiled = add(a, a)\n",
    "print(b_compiled - b)\n",
    "print(\"If you see tensor([0., 0., 0.], device='cuda:0'), then it works\")"
   ]
  },
  {
   "cell_type": "code",
   "execution_count": 6,
   "metadata": {},
   "outputs": [
    {
     "name": "stdout",
     "output_type": "stream",
     "text": [
      "12.8\n",
      "True\n",
      "CUDA is available\n",
      "Number of devices: 2\n",
      "0: NVIDIA GeForce RTX 5090\n",
      "1: NVIDIA GeForce RTX 5070 Ti\n"
     ]
    }
   ],
   "source": [
    "import torch\n",
    "\n",
    "print(torch.version.cuda)\n",
    "print(torch.cuda.is_available())\n",
    "\n",
    "if torch.cuda.is_available():\n",
    "    print(\"CUDA is available\")\n",
    "    print(f\"Number of devices: {torch.cuda.device_count()}\")\n",
    "    for i in range(torch.cuda.device_count()):\n",
    "        print(f\"{i}: {torch.cuda.get_device_name(i)}\")\n",
    "else:\n",
    "    print(\"CUDA is not available\")"
   ]
  },
  {
   "cell_type": "code",
   "execution_count": 7,
   "metadata": {},
   "outputs": [
    {
     "name": "stdout",
     "output_type": "stream",
     "text": [
      "PyTorch CUDA available: True\n",
      "CUDA Version: 12.8\n",
      "Torch Version: 2.8.0.dev20250405+cu128\n",
      "GPU Name: NVIDIA GeForce RTX 5090\n",
      "Compute Capability: (12, 0)\n"
     ]
    }
   ],
   "source": [
    "print(\"PyTorch CUDA available:\", torch.cuda.is_available())\n",
    "print(\"CUDA Version:\", torch.version.cuda)\n",
    "print(\"Torch Version:\", torch.__version__)\n",
    "print(\"GPU Name:\", torch.cuda.get_device_name(0))\n",
    "print(\"Compute Capability:\", torch.cuda.get_device_capability(0))\n"
   ]
  },
  {
   "cell_type": "code",
   "execution_count": 8,
   "metadata": {},
   "outputs": [],
   "source": [
    "#pip install --upgrade pip"
   ]
  },
  {
   "cell_type": "code",
   "execution_count": 4,
   "metadata": {},
   "outputs": [
    {
     "name": "stdout",
     "output_type": "stream",
     "text": [
      "Found existing installation: torch 2.6.0\n",
      "Uninstalling torch-2.6.0:\n",
      "  Successfully uninstalled torch-2.6.0\n",
      "Found existing installation: torchvision 0.21.0\n",
      "Uninstalling torchvision-0.21.0:\n",
      "  Successfully uninstalled torchvision-0.21.0\n",
      "Found existing installation: torchaudio 2.6.0\n",
      "Uninstalling torchaudio-2.6.0:\n",
      "  Successfully uninstalled torchaudio-2.6.0\n",
      "Note: you may need to restart the kernel to use updated packages.\n"
     ]
    },
    {
     "name": "stderr",
     "output_type": "stream",
     "text": [
      "WARNING: Failed to remove contents in a temporary directory 'C:\\Users\\erick\\miniconda3\\envs\\comfyui\\Lib\\site-packages\\~orch'.\n",
      "You can safely remove it manually.\n"
     ]
    }
   ],
   "source": [
    "#pip uninstall torch torchvision torchaudio -y"
   ]
  },
  {
   "cell_type": "code",
   "execution_count": 11,
   "metadata": {},
   "outputs": [],
   "source": [
    "#pip install --pre torch torchvision torchaudio --index-url https://download.pytorch.org/whl/nightly/cu128\n"
   ]
  },
  {
   "cell_type": "code",
   "execution_count": null,
   "metadata": {},
   "outputs": [],
   "source": [
    "#pip install triton-windows"
   ]
  },
  {
   "cell_type": "code",
   "execution_count": 13,
   "metadata": {},
   "outputs": [
    {
     "name": "stdout",
     "output_type": "stream",
     "text": [
      "Package                 Version\n",
      "----------------------- ------------------------\n",
      "aiohappyeyeballs        2.4.6\n",
      "aiohttp                 3.11.12\n",
      "aiosignal               1.3.2\n",
      "asttokens               3.0.0\n",
      "astunparse              1.6.3\n",
      "attrs                   25.1.0\n",
      "av                      14.2.0\n",
      "certifi                 2025.1.31\n",
      "cffi                    1.17.1\n",
      "chardet                 5.2.0\n",
      "charset-normalizer      3.4.1\n",
      "click                   8.1.8\n",
      "cmake                   3.31.6\n",
      "color-matcher           0.5.0\n",
      "colorama                0.4.6\n",
      "comm                    0.2.2\n",
      "contourpy               1.3.1\n",
      "cryptography            44.0.0\n",
      "cycler                  0.12.1\n",
      "ddt                     1.7.2\n",
      "debugpy                 1.8.13\n",
      "decorator               5.2.1\n",
      "Deprecated              1.2.18\n",
      "docutils                0.21.2\n",
      "einops                  0.8.0\n",
      "executing               2.2.0\n",
      "expecttest              0.3.0\n",
      "filelock                3.17.0\n",
      "fonttools               4.56.0\n",
      "frozenlist              1.5.0\n",
      "fsspec                  2025.2.0\n",
      "gguf                    0.14.0\n",
      "gitdb                   4.0.12\n",
      "GitPython               3.1.44\n",
      "huggingface-hub         0.28.1\n",
      "hypothesis              6.130.2\n",
      "idna                    3.10\n",
      "imageio                 2.37.0\n",
      "imageio-ffmpeg          0.6.0\n",
      "intel-cmplr-lib-ur      2025.1.0\n",
      "intel-openmp            2025.1.0\n",
      "ipykernel               6.29.5\n",
      "ipython                 9.0.2\n",
      "ipython_pygments_lexers 1.1.1\n",
      "jedi                    0.19.2\n",
      "Jinja2                  3.1.5\n",
      "jupyter_client          8.6.3\n",
      "jupyter_core            5.7.2\n",
      "kiwisolver              1.4.8\n",
      "kornia                  0.8.0\n",
      "kornia_rs               0.1.8\n",
      "lintrunner              0.12.7\n",
      "markdown-it-py          3.0.0\n",
      "MarkupSafe              3.0.1\n",
      "matplotlib              3.10.1\n",
      "matplotlib-inline       0.1.7\n",
      "matrix-client           0.4.0\n",
      "mdurl                   0.1.2\n",
      "mkl-include             2025.1.0\n",
      "mkl-static              2025.1.0\n",
      "mpmath                  1.3.0\n",
      "mss                     10.0.0\n",
      "multidict               6.1.0\n",
      "nest-asyncio            1.6.0\n",
      "networkx                3.4.2\n",
      "ninja                   1.11.1.4\n",
      "numpy                   1.26.4\n",
      "opencv-python           4.11.0.86\n",
      "optree                  0.14.1\n",
      "packaging               24.2\n",
      "parso                   0.8.4\n",
      "pillow                  11.1.0\n",
      "pip                     25.0.1\n",
      "platformdirs            4.3.6\n",
      "prompt_toolkit          3.0.50\n",
      "propcache               0.2.1\n",
      "psutil                  6.1.1\n",
      "pure_eval               0.2.3\n",
      "pybind11                2.13.6\n",
      "pycparser               2.22\n",
      "PyGithub                2.5.0\n",
      "Pygments                2.19.1\n",
      "PyJWT                   2.10.1\n",
      "PyNaCl                  1.5.0\n",
      "pyparsing               3.2.1\n",
      "python-dateutil         2.9.0.post0\n",
      "pywin32                 309\n",
      "PyYAML                  6.0.2\n",
      "pyzmq                   26.2.1\n",
      "regex                   2024.11.6\n",
      "requests                2.32.3\n",
      "rich                    13.9.4\n",
      "safetensors             0.5.2\n",
      "scipy                   1.15.1\n",
      "sentencepiece           0.2.0\n",
      "setuptools              76.0.0\n",
      "shellingham             1.5.4\n",
      "six                     1.17.0\n",
      "smmap                   5.0.2\n",
      "sortedcontainers        2.4.0\n",
      "soundfile               0.13.1\n",
      "spandrel                0.4.1\n",
      "stack-data              0.6.3\n",
      "sympy                   1.13.3\n",
      "tbb                     2022.1.0\n",
      "tbb-devel               2022.1.0\n",
      "tcmlib                  1.3.0\n",
      "tokenizers              0.21.0\n",
      "toml                    0.10.2\n",
      "torch                   2.8.0.dev20250322+cu128\n",
      "torchaudio              2.6.0.dev20250323+cu128\n",
      "torchsde                0.2.6\n",
      "torchvision             0.22.0.dev20250323+cu128\n",
      "tornado                 6.4.2\n",
      "tqdm                    4.67.1\n",
      "traitlets               5.14.3\n",
      "trampoline              0.1.2\n",
      "transformers            4.48.3\n",
      "triton                  3.0.0\n",
      "triton-windows          3.3.0a0.post17\n",
      "typer                   0.15.1\n",
      "types-dataclasses       0.6.6\n",
      "typing_extensions       4.12.2\n",
      "umf                     0.10.0\n",
      "urllib3                 1.26.20\n",
      "uv                      0.5.29\n",
      "wcwidth                 0.2.13\n",
      "wheel                   0.45.1\n",
      "wrapt                   1.17.2\n",
      "yarl                    1.18.3\n",
      "Note: you may need to restart the kernel to use updated packages.\n"
     ]
    }
   ],
   "source": [
    "pip list"
   ]
  },
  {
   "cell_type": "code",
   "execution_count": 10,
   "metadata": {},
   "outputs": [],
   "source": [
    "#pip install -U --pre triton-windows"
   ]
  },
  {
   "cell_type": "code",
   "execution_count": null,
   "metadata": {},
   "outputs": [],
   "source": [
    "conda create -n comfyui python=3.12.9 -y\n",
    "\n",
    "conda activate comfyui\n",
    "\n",
    "git clone https://github.com/comfyanonymous/ComfyUI.git\n",
    "cd ComfyUI\n",
    "\n",
    "pip install -r requirements.txt\n",
    "\n",
    "pip uninstall torch torchvision torchaudio -y\n",
    "\n",
    "pip install --pre torch torchvision torchaudio --index-url https://download.pytorch.org/whl/nightly/cu128\n",
    "\n",
    "pip install sageattention\n",
    "\n",
    "pip install triton-windows==3.3.0.post19\n",
    "\n",
    "#https://github.com/thu-ml/SageAttention\n",
    "#there is a new version for rtx 4000 and 5000 series but requires to be manually compiled\n",
    "# git clone https://github.com/thu-ml/SageAttention.git\n",
    "# cd sageattention \n",
    "# python setup.py install  # or pip install -e .\n",
    "\n",
    "cd custom_nodes\n",
    "git clone https://github.com/ltdrdata/ComfyUI-Manager.git\n",
    "cd ComfyUI-Manager\n",
    "\n",
    "cd ..\n",
    "cd ..\n",
    "\n",
    "python main.py --use-sage-attention\n",
    "\n",
    "#add photos of starting server, open web browser and installing nodes via the manager having \n",
    "\n",
    "#add note than when importing custom nodes, we need to install the dependencies of the custom node\n",
    "#pip install -r requirements.txt"
   ]
  },
  {
   "cell_type": "code",
   "execution_count": null,
   "metadata": {},
   "outputs": [],
   "source": []
  }
 ],
 "metadata": {
  "kernelspec": {
   "display_name": "comfyui",
   "language": "python",
   "name": "python3"
  },
  "language_info": {
   "codemirror_mode": {
    "name": "ipython",
    "version": 3
   },
   "file_extension": ".py",
   "mimetype": "text/x-python",
   "name": "python",
   "nbconvert_exporter": "python",
   "pygments_lexer": "ipython3",
   "version": "3.12.9"
  }
 },
 "nbformat": 4,
 "nbformat_minor": 2
}
